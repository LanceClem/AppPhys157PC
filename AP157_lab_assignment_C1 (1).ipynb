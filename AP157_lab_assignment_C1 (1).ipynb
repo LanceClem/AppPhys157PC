{
  "nbformat": 4,
  "nbformat_minor": 0,
  "metadata": {
    "colab": {
      "provenance": []
    },
    "kernelspec": {
      "name": "python3",
      "display_name": "Python 3"
    }
  },
  "cells": [
    {
      "cell_type": "markdown",
      "metadata": {
        "id": "RSdzzrWrgAXu"
      },
      "source": [
        "# **AP157 Module C Lab Assignment**\n",
        "\n",
        "## Module C1: Networks\n",
        "\n",
        "_Instructions_: Answer each part of the assignment as completely as you can. Discuss **all** your code and results as clearly and concisely as possible.\n",
        "\n",
        "_Scoring Criteria_: 50% - *correctness of code*; 50% - *discussion of the code and results*. Maximum score is **100 points**.\n",
        "\n",
        "_Credits_: The sample social network used is taken from https://nauczanki.wordpress.com/2014/11/10/social-network-analysis-basics-in-300-words-dalmooc-assignment-week-3/, which in turn is taken from an unspecified MOOC assignment."
      ]
    },
    {
      "cell_type": "markdown",
      "metadata": {
        "id": "I_dmUyo2pxIt"
      },
      "source": [
        "### Student Information\n",
        "\n",
        "_Full Name (Last Name, First Name)_: Clemente, Lance\\\n",
        "_Student No._: 2021-07811\\\n",
        "_Section_: THY-TX-1"
      ]
    },
    {
      "cell_type": "markdown",
      "metadata": {
        "id": "LyO1CnkFp17G"
      },
      "source": [
        "### Submission Information\n",
        "\n",
        "_Date and Time Submitted (most recent upload)_:\n",
        "\n",
        "**HONOR PLEDGE** I affirm that I have upheld the highest principles of honesty and integrity in my academic work and that this lab assignment is my own work.\n",
        "\n",
        "**Sign here with your full name: Lance Clemente**"
      ]
    },
    {
      "cell_type": "markdown",
      "metadata": {
        "id": "xgse8Mt5p35S"
      },
      "source": [
        "### Grading Information (c/o Instructor)\n",
        "\n",
        "TOTAL SCORE: **[]**/100\n",
        "\n",
        "Score breakdown:\n",
        "* Part 1 - []/30\n",
        "* Part 2 - []/30\n",
        "* Part 3 - []/30\n",
        "* Part 4 - []/40\n",
        "\n",
        "_Date and Time Scored (MM/DD/YYYY HH:MM AM/PM):_"
      ]
    },
    {
      "cell_type": "markdown",
      "source": [
        "For all parts of this assignment,  refer to the diagram of the sample social network in the Google Drive \"Datasets\" Folder (https://drive.google.com/file/d/1DkAK44GfocX0bmlSfK5Q6cbYXAUkixyj/view?usp=drive_link)"
      ],
      "metadata": {
        "id": "ume3h45hdJFm"
      }
    },
    {
      "cell_type": "markdown",
      "metadata": {
        "id": "gAgom2vqp-2X"
      },
      "source": [
        "#### PART 1 - Network generation and characteristics *(30 points)*\n",
        "\n",
        "1. Using the Python package networkx, define a network that represents the social network of friends in the diagram. *(15 points)*  \n",
        "\n",
        "2. Calculate the ff. network characteristics: *(15 points; 5 points each)*\n",
        "- Diameter\n",
        "- Density\n",
        "- Average Degree\n",
        "\n",
        "3. Create the degree distribution plot and briefly discuss what it tells us about this social network. *(10 points)*"
      ]
    },
    {
      "cell_type": "code",
      "source": [
        "import networkx as nx\n",
        "import matplotlib.pyplot as plt\n",
        "import pandas as pd\n",
        "import community\n",
        "from sklearn.metrics import normalized_mutual_info_score\n",
        "from networkx.algorithms import community\n",
        "from networkx.algorithms.community import girvan_newman\n",
        "from networkx.algorithms.community.quality import modularity\n",
        "%matplotlib inline\n"
      ],
      "metadata": {
        "id": "U5dRTIPWfNss"
      },
      "execution_count": null,
      "outputs": []
    },
    {
      "cell_type": "code",
      "source": [
        "from google.colab import drive\n",
        "drive.mount(\"/content/drive\")\n",
        "file_path = \"/content/drive/My Drive/AP157/\""
      ],
      "metadata": {
        "colab": {
          "base_uri": "https://localhost:8080/"
        },
        "id": "riyP8-vA4afk",
        "outputId": "15595f3a-f19d-437e-d469-666e35fe6267"
      },
      "execution_count": null,
      "outputs": [
        {
          "output_type": "stream",
          "name": "stdout",
          "text": [
            "Mounted at /content/drive\n"
          ]
        }
      ]
    },
    {
      "cell_type": "code",
      "source": [
        "print(open('/content/drive/My Drive/AP157/friends.txt').read())"
      ],
      "metadata": {
        "colab": {
          "base_uri": "https://localhost:8080/"
        },
        "id": "m_N9sbzS4pIP",
        "outputId": "c5c88732-d11b-44b2-fabc-eb6cedd2447e"
      },
      "execution_count": null,
      "outputs": [
        {
          "output_type": "stream",
          "name": "stdout",
          "text": [
            "Lisa Allen\n",
            "Allen Liz\n",
            "Liz Emma Shane\n",
            "Emma Mike Bob Jill Shane\n",
            "Mike Bob Jill \n",
            "Bob John Leah Jill\n",
            "John Shane Leah Jill \n",
            "Leah Shane Jill\n",
            "Shane Jill\n",
            "Jill\n"
          ]
        }
      ]
    },
    {
      "cell_type": "code",
      "source": [
        "G = nx.Graph()\n",
        "\n",
        "adj_list = {\n",
        "    'Lisa': ['Allen'],\n",
        "    'Allen': ['Liz'],\n",
        "    'Liz': ['Emma', 'Shane'],\n",
        "    'Emma': ['Mike', 'Bob', 'Jill', 'Shane'],\n",
        "    'Mike': ['Bob', 'Jill'],\n",
        "    'Bob': ['John', 'Leah', 'Jill'],\n",
        "    'John': ['Shane', 'Leah', 'Jill'],\n",
        "    'Leah': ['Shane', 'Jill'],\n",
        "    'Shane': ['Jill'],\n",
        "    'Jill': []\n",
        "}\n",
        "for node, neighbors in adj_list.items():\n",
        "    for neighbor in neighbors:\n",
        "        G.add_edge(node, neighbor)"
      ],
      "metadata": {
        "id": "q27iLricFfQd"
      },
      "execution_count": null,
      "outputs": []
    },
    {
      "cell_type": "code",
      "source": [
        "SG = nx.read_adjlist('/content/drive/My Drive/AP157/friends.txt')\n",
        "nx.draw(SG, node_size=1000, node_color='pink', with_labels=True)"
      ],
      "metadata": {
        "colab": {
          "base_uri": "https://localhost:8080/",
          "height": 516
        },
        "id": "6CSW3ry05UQA",
        "outputId": "385dffa7-16d1-4598-c111-512cd8b8661f"
      },
      "execution_count": null,
      "outputs": [
        {
          "output_type": "display_data",
          "data": {
            "text/plain": [
              "<Figure size 640x480 with 1 Axes>"
            ],
            "image/png": "[encoded data removed]"
          },
          "metadata": {}
        }
      ]
    },
    {
      "cell_type": "code",
      "source": [
        "diameter = nx.diameter(SG)\n",
        "print(f\"Diameter: {diameter}\")\n",
        "density = nx.density(SG)\n",
        "print(f\"Density: {density}\")\n",
        "average_degree = sum(dict(SG.degree()).values()) / SG.number_of_nodes()\n",
        "print(f\"Average Degree: {average_degree:.2f}\")"
      ],
      "metadata": {
        "colab": {
          "base_uri": "https://localhost:8080/"
        },
        "id": "iwKMWv10Exiq",
        "outputId": "bdc3a6d6-1326-4199-fc95-4fa616275add"
      },
      "execution_count": null,
      "outputs": [
        {
          "output_type": "stream",
          "name": "stdout",
          "text": [
            "Diameter: 4\n",
            "Density: 0.4222222222222222\n",
            "Average Degree: 3.80\n"
          ]
        }
      ]
    },
    {
      "cell_type": "code",
      "source": [
        "degree_sequence = sorted([d for n, d in G.degree()], reverse=True)\n",
        "degree_count = nx.degree_histogram(G)\n",
        "degrees = range(len(degree_count))\n",
        "\n",
        "plt.figure(figsize=(10, 6))\n",
        "plt.bar(degrees, degree_count, color='skyblue')\n",
        "plt.title('Degree Distribution')\n",
        "plt.ylabel('Count')\n",
        "plt.xlabel('Degree')\n",
        "plt.xticks(degrees)\n",
        "plt.show()"
      ],
      "metadata": {
        "colab": {
          "base_uri": "https://localhost:8080/",
          "height": 584
        },
        "id": "FN6e5TieFwty",
        "outputId": "cb1d59fb-3f86-4ef6-aba5-914c8f61e18c"
      },
      "execution_count": null,
      "outputs": [
        {
          "output_type": "display_data",
          "data": {
            "text/plain": [
              "<Figure size 1000x600 with 1 Axes>"
            ],
            "image/png": "[encoded data removed]"
          },
          "metadata": {}
        }
      ]
    },
    {
      "cell_type": "markdown",
      "source": [
        "The peaks in the degree distribution show nodes with more edges. The peak at degree 6 is hub of the network."
      ],
      "metadata": {
        "id": "Ecsko4hl04kv"
      }
    },
    {
      "cell_type": "markdown",
      "source": [
        "#### PART 2 - Centrality Measures *(30 points)*\n",
        "\n",
        "Generate a table of centrality measures per node. Columns are:\n",
        "- Name\n",
        "- Degree Centrality\n",
        "- Betweenness Centrality\n",
        "- Closeness Centrality\n",
        "\n",
        "Briefly discuss who are the most \"central\" people in the social network and why."
      ],
      "metadata": {
        "id": "aE9PlOt1fIUb"
      }
    },
    {
      "cell_type": "code",
      "source": [
        "degree_centrality = nx.degree_centrality(G)\n",
        "betweenness_centrality = nx.betweenness_centrality(G)\n",
        "closeness_centrality = nx.closeness_centrality(G)\n",
        "\n",
        "centrality_data = {\n",
        "    'Name': list(G.nodes),\n",
        "    'Degree Centrality': [degree_centrality[node] for node in G.nodes],\n",
        "    'Betweenness Centrality': [betweenness_centrality[node] for node in G.nodes],\n",
        "    'Closeness Centrality': [closeness_centrality[node] for node in G.nodes]\n",
        "}\n",
        "\n",
        "centrality_df = pd.DataFrame(centrality_data)\n",
        "\n",
        "print(centrality_df)"
      ],
      "metadata": {
        "id": "PnLzHa-rfOOI",
        "colab": {
          "base_uri": "https://localhost:8080/"
        },
        "outputId": "3c017b78-4978-48b2-bee2-4f5e43dc1435"
      },
      "execution_count": null,
      "outputs": [
        {
          "output_type": "stream",
          "name": "stdout",
          "text": [
            "    Name  Degree Centrality  Betweenness Centrality  Closeness Centrality\n",
            "0   Lisa           0.111111                0.000000              0.310345\n",
            "1  Allen           0.222222                0.222222              0.428571\n",
            "2    Liz           0.333333                0.388889              0.600000\n",
            "3   Emma           0.555556                0.229167              0.642857\n",
            "4  Shane           0.555556                0.226852              0.642857\n",
            "5   Mike           0.333333                0.000000              0.500000\n",
            "6    Bob           0.555556                0.046296              0.562500\n",
            "7   Jill           0.666667                0.067130              0.600000\n",
            "8   John           0.444444                0.006944              0.529412\n",
            "9   Leah           0.444444                0.006944              0.529412\n"
          ]
        }
      ]
    },
    {
      "cell_type": "markdown",
      "source": [
        "The most degree central person is Jill as she has the most direct connections,\n",
        "The most betweenness central person is Liz as you need to pass through Liz to get to Allen and Lisa,\n",
        "The most closeness centrality person is Shane and Emma."
      ],
      "metadata": {
        "id": "pSX9Z8awIkre"
      }
    },
    {
      "cell_type": "markdown",
      "source": [
        "#### PART 3 - Identify communities *(40 points)*\n",
        "\n",
        "1. Identify communities in the social network using *(30 points)*:\n",
        "- Louvain community detection algorithm\n",
        "- Any other community detection algorithm of your choice\n",
        "\n",
        "2. Calculate the modularity of the partitions from the two community detection algorithms. *(10 points)*\n",
        "\n",
        "Briefly describe the algorithm you used and compare the results from the two algorithms."
      ],
      "metadata": {
        "id": "RmD300mBfQQH"
      }
    },
    {
      "cell_type": "code",
      "source": [
        "# Louvain community\n",
        "louvain_partition = community.greedy_modularity_communities(G)\n",
        "\n",
        "# Girvan-Newman community\n",
        "communities_generator = girvan_newman(G)\n",
        "girvan_partition = tuple(sorted(c) for c in next(communities_generator))\n",
        "\n",
        "louvain_modularity = modularity(G, louvain_partition)\n",
        "girvan_modularity = modularity(G, girvan_partition)\n",
        "\n",
        "print(\"Louvain Community Detection:\")\n",
        "print(\"Number of communities:\", len(louvain_partition))\n",
        "print(\"Modularity:\", louvain_modularity)\n",
        "print(\"Partition:\", louvain_partition)\n",
        "print(\"\\nGirvan-Newman Community Detection:\")\n",
        "print(\"Number of communities:\", len(girvan_partition))\n",
        "print(\"Modularity:\", girvan_modularity)\n",
        "print(\"Partition:\", girvan_partition)"
      ],
      "metadata": {
        "id": "deBmiyRqfYJJ",
        "colab": {
          "base_uri": "https://localhost:8080/"
        },
        "outputId": "dc5ca764-ffe5-4be8-bc3f-22b09a62b12c"
      },
      "execution_count": null,
      "outputs": [
        {
          "output_type": "stream",
          "name": "stdout",
          "text": [
            "Louvain Community Detection:\n",
            "Number of communities: 3\n",
            "Modularity: 0.18698060941828254\n",
            "Partition: [frozenset({'Mike', 'Bob', 'Emma', 'Jill'}), frozenset({'Liz', 'Allen', 'Lisa'}), frozenset({'Leah', 'John', 'Shane'})]\n",
            "\n",
            "Girvan-Newman Community Detection:\n",
            "Number of communities: 2\n",
            "Modularity: 0.09279778393351806\n",
            "Partition: (['Allen', 'Lisa'], ['Bob', 'Emma', 'Jill', 'John', 'Leah', 'Liz', 'Mike', 'Shane'])\n"
          ]
        }
      ]
    },
    {
      "cell_type": "markdown",
      "source": [
        "The Louvain Community Detection seems to benefit for larger scale networks, while the Girvan-Newman Community Detection focuses on the betweenness centralities."
      ],
      "metadata": {
        "id": "XRQ0C8spJh1n"
      }
    }
  ]
}