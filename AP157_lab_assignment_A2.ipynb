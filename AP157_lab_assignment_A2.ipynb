{
  "cells": [
    {
      "cell_type": "markdown",
      "metadata": {
        "id": "ST5d6dw3dLZh"
      },
      "source": [
        "# **AP157 Machine Learning Lab Assignment**\n",
        "## Module A.2: Classification -- Morphological Classification of Galaxies using Decision Trees\n",
        "\n",
        "_Instructions_: Answer each part of the assignment as completely as you can. Discuss **all** your code and results as clearly and concisely as possible.\n",
        "\n",
        "_Scoring Criteria_: 50% - *correctness of code*; 50% - *discussion of the code and results*. Maximum score is **100 points** (Parts 1, 2, and 3 are worth 20, 40, and 40 points, respectively).\n",
        "\n",
        "_Credits_: This assignment is based on the Week 6 module of the Coursera course \"Data-driven Astronomy\", \"Exploring machine learning classification\" ([link](https://www.coursera.org/learn/data-driven-astronomy/home/welcome))"
      ]
    },
    {
      "cell_type": "markdown",
      "metadata": {
        "id": "iZZaEzKHdVYG"
      },
      "source": [
        "### Student Information\n",
        "\n",
        "_Full Name (Last Name, First Name)_: Clemente, Lance\\\n",
        "_Student No._: 2021-07811\\\n",
        "_Section_: TX-1"
      ]
    },
    {
      "cell_type": "markdown",
      "metadata": {
        "id": "Xv1STpPodaDL"
      },
      "source": [
        "### Submission Information\n",
        "\n",
        "_Date and Time Submitted (most recent upload)_: March 5 2024, 11:41 PM\n",
        "\n",
        "**HONOR PLEDGE** I affirm that I have upheld the highest principles of honesty and integrity in my academic work and that this lab assignment is my own work.\n",
        "\n",
        "**Sign here with your full name: Lance Veyonce C. Clemente**"
      ]
    },
    {
      "cell_type": "markdown",
      "metadata": {
        "id": "8zw1kC_rdoHT"
      },
      "source": [
        "### Grading Information (c/o Instructor)\n",
        "\n",
        "TOTAL SCORE: **[]**/100\n",
        "\n",
        "Score breakdown:\n",
        "* Part 1 - []/20\n",
        "* Part 2 - []/40\n",
        "* Part 3 - []/40\n",
        "\n",
        "_Date and Time Scored (MM/DD/YYYY HH:MM AM/PM):_"
      ]
    },
    {
      "cell_type": "markdown",
      "source": [
        "Discussion:\n",
        "\n",
        "For Module A2 we analyze galaxy data, seperate the column of its class, and attempt to predict it through sklearn's DecisionTreeClassifier. The dataset is first divided into features, and targets. The features are used to predict the class of the data and compare it to its actual class in targets. The comparison between the predicted and actual class is put through a confusion matrix to visualize the accuracy of the predictions. The values and distribution of the confusion matrix are altered when displaying bare predictions an i number of times. Different values of i output different results of the matrix."
      ],
      "metadata": {
        "id": "pigbeoUdJRJv"
      }
    },
    {
      "cell_type": "markdown",
      "metadata": {
        "id": "UNaYs-MfeDRl"
      },
      "source": [
        "For this assignment, you will work with galaxy data from the\n",
        "Sloan Digital Sky Survey (SDSS). First, you need to make a copy of the binary file ```galaxy_catalogue.npy``` and save it to a folder in your **own Google Drive**. This file is available from the AP157 Machine Learning Google Drive (under the Datasets folder).\n",
        "\n",
        "The code cells below will (1) mount your Google Drive and (2) load ```galaxy_catalogue.npy``` from your Google Drive folder."
      ]
    },
    {
      "cell_type": "markdown",
      "metadata": {
        "id": "ee1mHlUWfcsc"
      },
      "source": [
        "Mount the Google Drive where you saved the .npy file.\n",
        "\n",
        "When you run this cell, you will be asked to sign in to your Google account and you will get an authorization code. Paste the code on the provided cell to mount the Google Drive."
      ]
    },
    {
      "cell_type": "code",
      "execution_count": null,
      "metadata": {
        "colab": {
          "base_uri": "https://localhost:8080/"
        },
        "id": "yH0IOwb1YBHc",
        "outputId": "6803b3e9-581a-4a04-8235-6bec1b5e0d2a"
      },
      "outputs": [
        {
          "output_type": "stream",
          "name": "stdout",
          "text": [
            "Drive already mounted at /content/drive; to attempt to forcibly remount, call drive.mount(\"/content/drive\", force_remount=True).\n"
          ]
        }
      ],
      "source": [
        "from google.colab import drive\n",
        "drive.mount(\"/content/drive\")"
      ]
    },
    {
      "cell_type": "markdown",
      "metadata": {
        "id": "k0C5c-8ofqDu"
      },
      "source": [
        "Run this command to list the directories in your Google Drive and check that the mount was successful."
      ]
    },
    {
      "cell_type": "code",
      "execution_count": null,
      "metadata": {
        "id": "mzKLlj20fsJu"
      },
      "outputs": [],
      "source": [
        "!ls drive/My\\ Drive"
      ]
    },
    {
      "cell_type": "markdown",
      "metadata": {
        "id": "XPLuh_jWfju8"
      },
      "source": [
        "Define the directory path to the location of the file, i.e. if it is in a\n",
        "folder named \"AP157\" under My Drive, then the file path will be \"/content/drive/My Drive/AP157\". Change the string variable in the code cell below, as needed:"
      ]
    },
    {
      "cell_type": "code",
      "execution_count": null,
      "metadata": {
        "id": "jRpIuwdigDg5"
      },
      "outputs": [],
      "source": [
        "file_path = \"/content/drive/My Drive/AP157/\""
      ]
    },
    {
      "cell_type": "markdown",
      "metadata": {
        "id": "VW7RFRGaik-6"
      },
      "source": [
        "Now, we can load the file using $\\tt numpy$'s $\\tt load$ function below.\n",
        "\n",
        "\n",
        "\n"
      ]
    },
    {
      "cell_type": "code",
      "execution_count": null,
      "metadata": {
        "id": "y61tYmPIimUv"
      },
      "outputs": [],
      "source": [
        "import numpy as np\n",
        "\n",
        "data = np.load(file_path + 'galaxy_catalogue.npy')"
      ]
    },
    {
      "cell_type": "markdown",
      "metadata": {
        "id": "HpXP16UfWHQK"
      },
      "source": [
        "Print out the first couple of rows. Note that the columns are: $u-g$, $g-r$, $r-i$, $i-z$, eccentricity, $m_u$, $m_g$, $m_r$, $m_i$, $m_z$, $R_{50,u}$, $R_{50,r}$, $R_{50,z}$, $R_{90,u}$, $R_{90,r}$, $R_{90,z}$, and class."
      ]
    },
    {
      "cell_type": "code",
      "execution_count": null,
      "metadata": {
        "colab": {
          "base_uri": "https://localhost:8080/"
        },
        "id": "SaSvB4-u_Lu1",
        "outputId": "5e181ab0-d388-4fe9-8d00-ca535cdf8f23"
      },
      "outputs": [
        {
          "output_type": "execute_result",
          "data": {
            "text/plain": [
              "array([(1.85765, 0.67158, 0.4231 , 0.3061 , 0.5854284, 2.251946, 2.339849, 2.380652, 2.359738, 2.395528, 3.095123, 3.818919, 3.82623 , 5.174814, 8.263009, 11.47734 , 'merger'),\n",
              "       (1.74259, 0.86085, 0.44927, 0.28851, 0.7498125, 2.031566, 2.084156, 2.092272, 2.124075, 2.133154, 1.430436, 1.422533, 1.385727, 3.732712, 3.416921,  3.330347, 'merger')],\n",
              "      dtype=[('u-g', '<f8'), ('g-r', '<f8'), ('r-i', '<f8'), ('i-z', '<f8'), ('ecc', '<f8'), ('m4_u', '<f8'), ('m4_g', '<f8'), ('m4_r', '<f8'), ('m4_i', '<f8'), ('m4_z', '<f8'), ('petroR50_u', '<f8'), ('petroR50_r', '<f8'), ('petroR50_z', '<f8'), ('petroR90_u', '<f8'), ('petroR90_r', '<f8'), ('petroR90_z', '<f8'), ('class', '<U20')])"
            ]
          },
          "metadata": {},
          "execution_count": 29
        }
      ],
      "source": [
        "data[:2]"
      ]
    },
    {
      "cell_type": "markdown",
      "metadata": {
        "id": "_eq2V7xzFtq7"
      },
      "source": [
        "#### PART 1 - Get features and targets *(20 pts.)*\n",
        "\n",
        "Write a function ```get_features_targets``` that splits the dataset into input features and their corresponding targets. In our case, the inputs are the 4 galaxy colors ($u-g$, $g-r$, $r-i$, and $i-z$), eccentricity, $ugriz$ magnitudes, and concentrations $R_{50}/R_{90}$ in the $u$, $r$, and $z$ bands. The targets are the classes.\n",
        "\n",
        "Here's an example of how your function should work:\n",
        "```\n",
        ">>> features, targets = get_features_targets(data)\n",
        ">>> print(\"Features shape:\", features.shape\n",
        ">>> print(\"Targets shape:\", targets.shape)\n",
        "Features shape: (780, 13)\n",
        "Targets shape: (780,)\n",
        "```"
      ]
    },
    {
      "cell_type": "code",
      "execution_count": null,
      "metadata": {
        "id": "H4yrnXywSwTy"
      },
      "outputs": [],
      "source": [
        "def get_features_targets(data):\n",
        "\n",
        "    #features\n",
        "    colors = np.array([data['u-g'], data['g-r'], data['r-i'], data['i-z']]).T\n",
        "    magnitudes = np.array([data['m4_u'], data['m4_g'], data['m4_r'], data['m4_i'], data['m4_z']]).T\n",
        "    concentrations = np.array([data['petroR50_u'] / data['petroR90_u'], data['petroR50_r'] / data['petroR90_r'], data['petroR50_z'] / data['petroR90_z']]).T\n",
        "    eccentricity = np.array(data['ecc']).reshape(-1, 1)\n",
        "\n",
        "    features = np.concatenate((colors, eccentricity, magnitudes, concentrations), axis=1)\n",
        "\n",
        "    #targets\n",
        "    targets = np.array(data['class'])\n",
        "\n",
        "    return features, targets"
      ]
    },
    {
      "cell_type": "code",
      "execution_count": null,
      "metadata": {
        "colab": {
          "base_uri": "https://localhost:8080/"
        },
        "id": "wmx_yCo9-ydq",
        "outputId": "a40e97b0-db40-4dc9-f8ac-9051ba2dbaa8"
      },
      "outputs": [
        {
          "output_type": "stream",
          "name": "stdout",
          "text": [
            "Features shape: (780, 13)\n",
            "Targets shape: (780,)\n"
          ]
        }
      ],
      "source": [
        "features, targets = get_features_targets(data)\n",
        "print(\"Features shape:\", features.shape)\n",
        "print(\"Targets shape:\", targets.shape)\n",
        "\n",
        "#accurate to the sample function"
      ]
    },
    {
      "cell_type": "markdown",
      "metadata": {
        "id": "vnePPYpJNWoY"
      },
      "source": [
        "#### PART 2 - Train and run a decision tree model *(40 pts.)*\n",
        "\n",
        "Write a function ```predict_class``` that will train and validate a model that predicts a galaxy's class from its photometric properties. In particular, it should do the following:\n",
        "1. Split the dataset into a training and test dataset using an 80:20 split.\n",
        "2. Train the input model using the training dataset features and targets.\n",
        "3. Return two arrays-- the predicted and actual class of the test galaxies.\n",
        "\n",
        "Here's an example of how your function should work:\n",
        "```\n",
        "import numpy as np\n",
        "from sklearn.tree import DecisionTreeClassifier\n",
        "\n",
        "data = np.load(file_path + 'galaxy_catalogue.npy')\n",
        "predicted_class, actual_class = predict_class(data)\n",
        "\n",
        "for i in np.arange(3):\n",
        "   print(\"%d, %s, %s\" & (i, predicted_class[i], actual_class[i]))\n",
        "```"
      ]
    },
    {
      "cell_type": "code",
      "execution_count": null,
      "metadata": {
        "id": "ydeUh_Tzvf0n"
      },
      "outputs": [],
      "source": [
        "import numpy as np\n",
        "from sklearn.model_selection import train_test_split\n",
        "from sklearn.tree import DecisionTreeClassifier\n",
        "\n",
        "def predict_class(data):\n",
        "    features, targets = get_features_targets(data)\n",
        "\n",
        "    #splitting the dataset into training and test sets, 80/20 ratio\n",
        "    X_train, X_test, y_train, y_test = train_test_split(features, targets, test_size=0.2, random_state=42)\n",
        "\n",
        "    #initializing the decision tree classifier\n",
        "    #clf is classifier\n",
        "    clf = DecisionTreeClassifier()\n",
        "\n",
        "    #training classifier\n",
        "    clf.fit(X_train, y_train)\n",
        "\n",
        "    #predicting classes for the test set\n",
        "    predicted_class = clf.predict(X_test)\n",
        "\n",
        "    return predicted_class, y_test"
      ]
    },
    {
      "cell_type": "code",
      "source": [
        "data = np.load(file_path + 'galaxy_catalogue.npy')\n",
        "predicted_class, actual_class = predict_class(data)\n",
        "\n",
        "for i in np.arange(100):\n",
        "   print(\"{},{},{}\".format(i, predicted_class[i], actual_class[i]))\n",
        "\n",
        "#example code was outputting TypeError: unsupported operand type(s) for &: 'str' and 'tuple'\n",
        "#using format() to fix problem\n",
        "\n",
        "#the confusion matrix changes depending on i"
      ],
      "metadata": {
        "colab": {
          "base_uri": "https://localhost:8080/"
        },
        "id": "_xHk7E6UUKW_",
        "outputId": "dfc6ccae-0702-41bb-bf54-0172931117e4"
      },
      "execution_count": 53,
      "outputs": [
        {
          "output_type": "stream",
          "name": "stdout",
          "text": [
            "0,spiral,spiral\n",
            "1,spiral,spiral\n",
            "2,merger,spiral\n",
            "3,spiral,spiral\n",
            "4,elliptical,elliptical\n",
            "5,merger,merger\n",
            "6,merger,elliptical\n",
            "7,spiral,spiral\n",
            "8,spiral,merger\n",
            "9,spiral,spiral\n",
            "10,elliptical,elliptical\n",
            "11,elliptical,spiral\n",
            "12,merger,spiral\n",
            "13,spiral,spiral\n",
            "14,spiral,spiral\n",
            "15,merger,merger\n",
            "16,elliptical,elliptical\n",
            "17,merger,merger\n",
            "18,elliptical,elliptical\n",
            "19,merger,merger\n",
            "20,merger,merger\n",
            "21,merger,merger\n",
            "22,merger,merger\n",
            "23,elliptical,elliptical\n",
            "24,merger,merger\n",
            "25,merger,spiral\n",
            "26,spiral,spiral\n",
            "27,elliptical,elliptical\n",
            "28,elliptical,elliptical\n",
            "29,spiral,merger\n",
            "30,elliptical,elliptical\n",
            "31,spiral,merger\n",
            "32,merger,merger\n",
            "33,merger,spiral\n",
            "34,spiral,spiral\n",
            "35,elliptical,elliptical\n",
            "36,spiral,spiral\n",
            "37,merger,elliptical\n",
            "38,elliptical,elliptical\n",
            "39,merger,spiral\n",
            "40,elliptical,elliptical\n",
            "41,spiral,spiral\n",
            "42,merger,merger\n",
            "43,spiral,spiral\n",
            "44,merger,merger\n",
            "45,spiral,spiral\n",
            "46,elliptical,elliptical\n",
            "47,elliptical,elliptical\n",
            "48,elliptical,merger\n",
            "49,merger,spiral\n",
            "50,elliptical,elliptical\n",
            "51,spiral,spiral\n",
            "52,merger,merger\n",
            "53,spiral,spiral\n",
            "54,merger,merger\n",
            "55,elliptical,elliptical\n",
            "56,elliptical,elliptical\n",
            "57,spiral,spiral\n",
            "58,merger,spiral\n",
            "59,merger,spiral\n",
            "60,elliptical,elliptical\n",
            "61,merger,merger\n",
            "62,spiral,spiral\n",
            "63,merger,merger\n",
            "64,merger,merger\n",
            "65,elliptical,elliptical\n",
            "66,elliptical,elliptical\n",
            "67,elliptical,elliptical\n",
            "68,elliptical,elliptical\n",
            "69,merger,spiral\n",
            "70,merger,merger\n",
            "71,spiral,spiral\n",
            "72,elliptical,elliptical\n",
            "73,merger,merger\n",
            "74,elliptical,elliptical\n",
            "75,elliptical,elliptical\n",
            "76,merger,merger\n",
            "77,merger,spiral\n",
            "78,elliptical,elliptical\n",
            "79,elliptical,elliptical\n",
            "80,merger,merger\n",
            "81,spiral,spiral\n",
            "82,spiral,spiral\n",
            "83,merger,merger\n",
            "84,elliptical,elliptical\n",
            "85,merger,elliptical\n",
            "86,merger,spiral\n",
            "87,spiral,spiral\n",
            "88,elliptical,elliptical\n",
            "89,elliptical,elliptical\n",
            "90,merger,merger\n",
            "91,merger,elliptical\n",
            "92,merger,merger\n",
            "93,merger,merger\n",
            "94,elliptical,elliptical\n",
            "95,merger,spiral\n",
            "96,elliptical,elliptical\n",
            "97,elliptical,elliptical\n",
            "98,merger,spiral\n",
            "99,merger,merger\n"
          ]
        }
      ]
    },
    {
      "cell_type": "markdown",
      "metadata": {
        "id": "hlSp5k92OjuM"
      },
      "source": [
        "#### PART 3 - Confusion matrix and accuracy *(40 pts.)*\n",
        "\n",
        "1. Get the confusion matrix for your test dataset-- this is a 3 x 3 matrix with the counts for each combination of actual and predicted class. *(25 pts.)*\n",
        "\n",
        "2. Get the test accuracy of your decision tree classifer, defined as the number of correct predictions divided by the total number of predictions. *(15 pts.)*"
      ]
    },
    {
      "cell_type": "code",
      "source": [
        "from sklearn.metrics import confusion_matrix, accuracy_score\n",
        "\n",
        "\n",
        "#confusion matrix\n",
        "cm = confusion_matrix(actual_class, predicted_class)\n",
        "print(\"Confusion Matrix:\")\n",
        "print(cm)\n",
        "\n",
        "#test accuracy\n",
        "test_accuracy = accuracy_score(actual_class, predicted_class)\n",
        "print(\"Test Accuracy:\", test_accuracy)"
      ],
      "metadata": {
        "colab": {
          "base_uri": "https://localhost:8080/"
        },
        "id": "rD4aFfW6YI76",
        "outputId": "b4cc5782-ccee-4380-ca17-7f23629b840f"
      },
      "execution_count": 54,
      "outputs": [
        {
          "output_type": "stream",
          "name": "stdout",
          "text": [
            "Confusion Matrix:\n",
            "[[50  5  0]\n",
            " [ 3 39  7]\n",
            " [ 1 15 36]]\n",
            "Test Accuracy: 0.8012820512820513\n"
          ]
        }
      ]
    },
    {
      "cell_type": "code",
      "source": [
        "##GRAPHING CONFUSION MATRIX\n",
        "import matplotlib.pyplot as plt\n",
        "import seaborn as sns\n",
        "from sklearn.metrics import confusion_matrix\n",
        "\n",
        "#class names\n",
        "class_names = ['elliptical', 'spiral', 'merger']  # Replace with your actual class names\n",
        "\n",
        "predicted_class, actual_class = predict_class(data)\n",
        "\n",
        "#plotting confusion matrix\n",
        "plt.figure(figsize=(8, 6))\n",
        "sns.heatmap(cm, annot=True, cmap='Blues', fmt='g', cbar=False)\n",
        "\n",
        "#adding labels to each tick\n",
        "plt.xticks(ticks=[i + 0.5 for i in range(len(class_names))], labels=class_names)\n",
        "plt.yticks(ticks=[i + 0.5 for i in range(len(class_names))], labels=class_names)\n",
        "\n",
        "plt.xlabel('Predicted Class')\n",
        "plt.ylabel('Actual Class')\n",
        "plt.title('Confusion Matrix')\n",
        "plt.show()\n",
        "\n",
        "#The initial matrix's x and y units were just 0,1,2 not elliptical, spiral, and merger\n",
        "#accuracy on cdll above\n",
        "#check what happens when u alter i in the loop"
      ],
      "metadata": {
        "colab": {
          "base_uri": "https://localhost:8080/",
          "height": 564
        },
        "id": "YdjJKvZ3ZNTM",
        "outputId": "ebaa2f2c-8c60-47cb-debe-62fee204fc6f"
      },
      "execution_count": 55,
      "outputs": [
        {
          "output_type": "display_data",
          "data": {
            "text/plain": [
              "<Figure size 800x600 with 1 Axes>"
            ],
            "image/png": "[encoded data removed]"
          },
          "metadata": {}
        }
      ]
    }
  ],
  "metadata": {
    "colab": {
      "provenance": []
    },
    "kernelspec": {
      "display_name": "Python 3",
      "name": "python3"
    }
  },
  "nbformat": 4,
  "nbformat_minor": 0
}